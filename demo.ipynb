{
 "cells": [
  {
   "cell_type": "markdown",
   "metadata": {
    "hideCode": false,
    "hidePrompt": true,
    "slideshow": {
     "slide_type": "slide"
    }
   },
   "source": [
    "# Innovationen durch Open Data \n",
    "## Den Wert von offenen Daten aufdecken und erschließen\n",
    "\n",
    "Im Vortrag haben wir Beispiele von offenen Daten gezeigt bekommen, welche von\n",
    "- Städten und Kommunen,\n",
    "- zivilgesellschaftlichen Projekten oder\n",
    "- wissenschaftlichen Communities\n",
    "veröffentlicht werden.\n",
    "\n",
    "Wir möchten nun hands-on Beispiele für jeden dieser Datenurheber vorstellen, damit ihr einen Eindruck von der Qualität, möglichen Anwendungen aber auch den Herausforderungen in der Verwendung dieser Daten erhaltet."
   ]
  },
  {
   "cell_type": "markdown",
   "metadata": {
    "hideCode": false,
    "hidePrompt": true,
    "slideshow": {
     "slide_type": "subslide"
    }
   },
   "source": [
    "Unsere Agenda sieht wie folgt aus:\n",
    "1. Visualisierung von Datensätzen des Open Data-Portals der Stadt Bielefeld\n",
    "2. Zugriff auf Daten der Feinstaubsensoren in Bielefeld inkl. einer interaktiven Karte\n",
    "3. Linked Data in Wikidata"
   ]
  },
  {
   "cell_type": "markdown",
   "metadata": {
    "hideCode": false,
    "hideOutput": false,
    "hidePrompt": true,
    "slideshow": {
     "slide_type": "slide"
    }
   },
   "source": [
    "## Pakete laden\n",
    "- `pandas`: Verarbeitung, Verwaltung und Analyse von Daten\n",
    "- `plotly`: Erstellung interaktiver Grafiken; eine Vielzahl von Beispielen wie verschiedene Datentypen zur Anzeige gebracht werden können, sind dort auf der [offiziellen Webseite](https://plotly.com/python/) zu finden\n",
    "- `requests`: Führe HTTP-Befehle aus um z.B. Webseiten abzufragen\n",
    "- `datetime`: Standardisierte Formate und Funktionen für Zeitstempel\n",
    "- `json`: Verarbeitung von JSON-Dateien\n",
    "- `pywikibot`: Vielfältige Funktionen zur Abfrage von Wikipedia und Wikidata"
   ]
  },
  {
   "cell_type": "code",
   "execution_count": null,
   "metadata": {
    "hideCode": false,
    "hidePrompt": true,
    "scrolled": true
   },
   "outputs": [],
   "source": [
    "import pandas as pd\n",
    "import plotly.express as px\n",
    "import requests\n",
    "from datetime import datetime, timedelta\n",
    "import json\n",
    "import sys\n",
    "import pywikibot"
   ]
  },
  {
   "cell_type": "markdown",
   "metadata": {
    "hideCode": false,
    "hidePrompt": true,
    "slideshow": {
     "slide_type": "slide"
    }
   },
   "source": [
    "## Open-Data-Portal Bielefeld\n",
    "\n",
    "Zunächst möchten wir uns Daten des Open-Data-Portals der Stadt Bielefeld zur Anzeige bringen. Hierzu verwenden wir zunächst die Wahlergebnisse der Bundestagswahl 2017."
   ]
  },
  {
   "cell_type": "markdown",
   "metadata": {
    "hideCode": false,
    "hidePrompt": true
   },
   "source": [
    "### Wahlergebnisse der Bundestagswahl 2017\n",
    "Auf [dieser Webseite](https://open-data.bielefeld.de/dataset/wahlen-und-abstimmungen-bielefeld) finden sich alle Datensätze zu Wahlen und Abstimmungen der Stadt. Ganz unten auf der Seite finden sich die aktuellsten Daten, und dort sehen wir \n",
    "\n",
    "<img src=\"./img/Daten_Download_1.png\" width=\"750\" height=\"250\" align=\"left\">"
   ]
  },
  {
   "cell_type": "markdown",
   "metadata": {
    "hideCode": false,
    "hidePrompt": true,
    "slideshow": {
     "slide_type": "subslide"
    }
   },
   "source": [
    "Fahren wir nun mit dem Mauszeiger über den Button `Download`, so sehen wir die eigentliche URL des Datensatzes:\n",
    "\n",
    "<img src=\"./img/Daten_Download_2.png\" width=\"900\" height=\"250\" align=\"left\">"
   ]
  },
  {
   "cell_type": "markdown",
   "metadata": {
    "hideCode": false,
    "hidePrompt": true,
    "slideshow": {
     "slide_type": "-"
    }
   },
   "source": [
    "Diese URL fügen wir in die Funktion zum Einlesen einer CSV-Datei ein."
   ]
  },
  {
   "cell_type": "code",
   "execution_count": null,
   "metadata": {
    "hideCode": false,
    "hidePrompt": true,
    "slideshow": {
     "slide_type": "subslide"
    }
   },
   "outputs": [],
   "source": [
    "url_bundestagswahl2017 = 'https://open-data.bielefeld.de/sites/default/files/BTW 2017_1.csv'\n",
    "\n",
    "try:\n",
    "    df_btw = pd.read_csv(url_bundestagswahl2017)\n",
    "except:\n",
    "    print(\"Oops! Dies ist eine ungültige URL...\\nFehlerklasse:\", sys.exc_info()[0])\n"
   ]
  },
  {
   "cell_type": "markdown",
   "metadata": {
    "hideCode": false,
    "hidePrompt": true,
    "slideshow": {
     "slide_type": "fragment"
    }
   },
   "source": [
    "Leider erhalten wir die Fehlermeldung, dass kein Leerzeichen in einer URL als Eingabe dieser Funktion vorhanden sein darf. \n",
    "\n",
    "Ersetzen wir also das Leerzeichen mit `%20`, welches wir aus reinem Zufall kennen."
   ]
  },
  {
   "cell_type": "code",
   "execution_count": null,
   "metadata": {
    "hideCode": false,
    "hidePrompt": true,
    "slideshow": {
     "slide_type": "subslide"
    }
   },
   "outputs": [],
   "source": [
    "url_bundestagswahl2017 = 'https://open-data.bielefeld.de/sites/default/files/BTW%202017_1.csv'\n",
    "\n",
    "try:\n",
    "    df_btw = pd.read_csv(filepath_or_buffer=url_bundestagswahl2017)\n",
    "except:\n",
    "    print(\"Oops! Die Zeichen in der Datei können nicht interpretiert werden...\\nFehlerklasse:\", sys.exc_info()[0])"
   ]
  },
  {
   "cell_type": "markdown",
   "metadata": {
    "hideCode": false,
    "hidePrompt": true,
    "slideshow": {
     "slide_type": "fragment"
    }
   },
   "source": [
    "Ein andere Fehler taucht auf. Es wird eine Encodierung angesprochen und wir haben den Verdacht, dass die CSV-Datei mithilfe von Word auf einer Windows-Maschine erstellt sein könnte. Wenn nicht explizit darauf geachtet wird, werden so leider Dateien erstellt, welche nicht ein Standard-Format besitzen.\n",
    "\n",
    "Aber wieder wissen wir uns zu helfen und tippen darauf, dass wir die Encodierung `ANSI` verwenden sollten. Da ANSI als Encoding Format nicht zu den Standard Python Encodings gehört, nutzen wir \"palmos\", welches für ANSI Encoding in Python verwendet werden kann."
   ]
  },
  {
   "cell_type": "code",
   "execution_count": null,
   "metadata": {
    "hideCode": false,
    "hidePrompt": true,
    "slideshow": {
     "slide_type": "subslide"
    }
   },
   "outputs": [],
   "source": [
    "url_bundestagswahl2017 = 'https://open-data.bielefeld.de/sites/default/files/BTW%202017_1.csv'\n",
    "try:\n",
    "    df_btw = pd.read_csv(filepath_or_buffer=url_bundestagswahl2017, encoding='palmos')\n",
    "except:\n",
    "    print(\"Oops! Das Pandas-Paket kann die Datei nicht verarbeiten...\\nFehlerklasse:\", sys.exc_info()[0])"
   ]
  },
  {
   "cell_type": "markdown",
   "metadata": {
    "hideCode": false,
    "hidePrompt": true,
    "slideshow": {
     "slide_type": "fragment"
    }
   },
   "source": [
    "Und noch ein Fehler...\n",
    "\n",
    "Irgendetwas scheint mit der erwarteten Anzahl der Spalten nicht zu stimmen. Obwohl das Datenformat CSV (comma-separated values), wird häufig ein Semikolon anstelle eines Kommas eingesetzt. Probieren wir es also aus."
   ]
  },
  {
   "cell_type": "code",
   "execution_count": null,
   "metadata": {
    "hideCode": false,
    "hidePrompt": true,
    "slideshow": {
     "slide_type": "subslide"
    }
   },
   "outputs": [],
   "source": [
    "url_bundestagswahl2017 = 'https://open-data.bielefeld.de/sites/default/files/BTW%202017_1.csv'\n",
    "df_btw = pd.read_csv(filepath_or_buffer=url_bundestagswahl2017, sep=';', encoding='palmos')\n",
    "df_btw.head()"
   ]
  },
  {
   "cell_type": "markdown",
   "metadata": {
    "hideCode": false,
    "hidePrompt": true,
    "slideshow": {
     "slide_type": "subslide"
    }
   },
   "source": [
    "Um einen besseren Eindruck über die verfügbaren Daten zu erhalten, lassen wir uns alle Spaltennamen anzeigen:"
   ]
  },
  {
   "cell_type": "code",
   "execution_count": null,
   "metadata": {
    "hideCode": false,
    "hidePrompt": true
   },
   "outputs": [],
   "source": [
    "print(list(df_btw.keys()))"
   ]
  },
  {
   "cell_type": "markdown",
   "metadata": {
    "hideCode": false,
    "hidePrompt": true,
    "slideshow": {
     "slide_type": "subslide"
    }
   },
   "source": [
    "Wenn wir uns lediglich für die prozentuale Verteilung der Stimmen interessieren, so können wir die entsprechenden Spalten filtern. Leider ist im Portal nicht beschrieben, inwiefern sich die Spalten mit dem Präfix `Z_` von denjenigen ohne unterscheiden. Wir wählen diejenigen ohne Präfix."
   ]
  },
  {
   "cell_type": "code",
   "execution_count": null,
   "metadata": {
    "hideCode": false,
    "hidePrompt": true
   },
   "outputs": [],
   "source": [
    "list_btw_prc = [x for x in list(df_btw.keys()) if '_Proz' in x and 'Z_' not in x]\n",
    "print(list_btw_prc)"
   ]
  },
  {
   "cell_type": "markdown",
   "metadata": {
    "hideCode": false,
    "hidePrompt": true,
    "slideshow": {
     "slide_type": "subslide"
    }
   },
   "source": [
    "Wir erzeugen einen Dataframe mit nur obigen Spalten und der Wahlbezirksnummer."
   ]
  },
  {
   "cell_type": "code",
   "execution_count": null,
   "metadata": {
    "hideCode": true,
    "hidePrompt": true
   },
   "outputs": [],
   "source": [
    "df_btw_prc = df_btw[['Nr'] + list_btw_prc].copy()\n",
    "df_btw_prc.head()"
   ]
  },
  {
   "cell_type": "markdown",
   "metadata": {
    "hideCode": false,
    "hidePrompt": true,
    "slideshow": {
     "slide_type": "subslide"
    }
   },
   "source": [
    "Leider ist in dem Datensatz nicht ein international gültiges Nummernformat verwendet worden, sodass wir als Text erkannte Zahlen wie `2,7` in echte Zahlen wie `2.7` umwandeln."
   ]
  },
  {
   "cell_type": "code",
   "execution_count": null,
   "metadata": {
    "hideCode": true,
    "hidePrompt": true,
    "slideshow": {
     "slide_type": "skip"
    }
   },
   "outputs": [],
   "source": [
    "for col in list_btw_prc:\n",
    "    if df_btw_prc[col].dtype == object:\n",
    "        df_btw_prc[col] = df_btw_prc[col].str.replace(',', '.').astype(float)"
   ]
  },
  {
   "cell_type": "markdown",
   "metadata": {
    "hideCode": false,
    "hidePrompt": true,
    "slideshow": {
     "slide_type": "-"
    }
   },
   "source": [
    "Nach der Korrektur erhalten wir folgenden Dataframe:"
   ]
  },
  {
   "cell_type": "code",
   "execution_count": null,
   "metadata": {
    "hideCode": true,
    "hidePrompt": true
   },
   "outputs": [],
   "source": [
    "df_btw_prc.head()"
   ]
  },
  {
   "cell_type": "markdown",
   "metadata": {
    "hideCode": false,
    "hidePrompt": true,
    "slideshow": {
     "slide_type": "skip"
    }
   },
   "source": [
    "Um die Verteilung von Wahlbezirk 1.1 darzustellen, legen wir einen eigenen Dataframe an."
   ]
  },
  {
   "cell_type": "code",
   "execution_count": null,
   "metadata": {
    "hideCode": true,
    "hidePrompt": true,
    "slideshow": {
     "slide_type": "skip"
    }
   },
   "outputs": [],
   "source": [
    "df_btw_1_1 = df_btw_prc[list_btw_prc].iloc[0].to_frame()\n",
    "df_btw_1_1.reset_index(inplace=True)\n",
    "df_btw_1_1 = df_btw_1_1.rename(columns = {'index':'Partei', 0:'Proz'})\n",
    "df_btw_1_1['Partei'] = df_btw_1_1['Partei'].str.replace('_Proz', '')"
   ]
  },
  {
   "cell_type": "markdown",
   "metadata": {
    "hideCode": false,
    "hidePrompt": true,
    "slideshow": {
     "slide_type": "subslide"
    }
   },
   "source": [
    "Ein Kreisdiagramm mit der prozentualen Stimmenverteilung in Wahlbezirk 1.1 kann nach dieser Vorarbeit einfach dargestellt werden:"
   ]
  },
  {
   "cell_type": "code",
   "execution_count": null,
   "metadata": {
    "hideCode": false,
    "hidePrompt": true
   },
   "outputs": [],
   "source": [
    "fig = px.pie(df_btw_1_1.loc[df_btw_1_1['Proz'] > 0.02], values='Proz', names='Partei', title='Wahlbezirk 1.1')\n",
    "fig.show()"
   ]
  },
  {
   "cell_type": "markdown",
   "metadata": {
    "hideCode": false,
    "hidePrompt": true,
    "slideshow": {
     "slide_type": "subslide"
    }
   },
   "source": [
    "Es ließen sich noch eine Vielzahl an weiteren Grafiken und Statistiken bilden, allerdings warten noch andere Datensätze auf uns."
   ]
  },
  {
   "cell_type": "markdown",
   "metadata": {
    "hideCode": false,
    "hidePrompt": true,
    "slideshow": {
     "slide_type": "fragment"
    }
   },
   "source": [
    "Take-away-message:\n",
    "- die maschinelle Zugriffsmöglichkeit auf offene Daten sollte standardisiert und gut beschrieben sein\n",
    "- Metadaten - also die Beschreibung der Inhalte einer Datei - sind zur Interpretation notwendig\n",
    "- standardisierte Formate sollten verwendet werden um längliche Datenprozessierung unnötig zu machen"
   ]
  },
  {
   "cell_type": "markdown",
   "metadata": {
    "hideCode": false,
    "hidePrompt": true,
    "slideshow": {
     "slide_type": "slide"
    }
   },
   "source": [
    "### Demographische Daten\n",
    "\n",
    "Nun betrachten wir die demographischen Daten der Stadt Bielefeld und verwenden hierfür die Daten [dieser Webseite](https://open-data.bielefeld.de/dataset/demographie-und-statistische-gebietsgliederung) . \n",
    "\n",
    "Die entsprechende URL erhalten wir per Mouse-Over über den Download-Button.\n",
    "\n",
    "<img src=\"./img/Daten_Download_3.png\" width=\"750\" height=\"450\" align=\"left\">"
   ]
  },
  {
   "cell_type": "markdown",
   "metadata": {
    "hideCode": false,
    "hidePrompt": true,
    "slideshow": {
     "slide_type": "subslide"
    }
   },
   "source": [
    "Zunächst laden wir die Daten ein und vermuten, dass wir die obigen Parameter zum fehlerfreien Einlesen auch hier verwenden können."
   ]
  },
  {
   "cell_type": "code",
   "execution_count": null,
   "metadata": {
    "hideCode": false,
    "hidePrompt": true
   },
   "outputs": [],
   "source": [
    "url_alter = 'https://open-data.bielefeld.de/sites/default/files/altersstruktur_stadtbezirke_31122019_0.csv'\n",
    "df_alter = pd.read_csv(filepath_or_buffer=url_alter, sep=';', encoding='palmos')\n",
    "df_alter.head()"
   ]
  },
  {
   "cell_type": "markdown",
   "metadata": {
    "hideCode": false,
    "hidePrompt": true,
    "slideshow": {
     "slide_type": "subslide"
    }
   },
   "source": [
    "Betrachten wir zunächst wieder alle Spaltennamen:"
   ]
  },
  {
   "cell_type": "code",
   "execution_count": null,
   "metadata": {
    "hideCode": true,
    "hidePrompt": true
   },
   "outputs": [],
   "source": [
    "list_alter_spaltennamen = list(df_alter.keys())\n",
    "print(list_alter_spaltennamen)"
   ]
  },
  {
   "cell_type": "markdown",
   "metadata": {
    "hideCode": false,
    "hidePrompt": true
   },
   "source": [
    "**STOP** An dieser Stelle fällt uns auf, dass sich die Daten im Vergleich zum Open-Data-Day 2021 (Anfang März) geändert haben. Wo finden wir Informationen hierzu, vielleicht gibt es je eine Datei-Versionierung?"
   ]
  },
  {
   "cell_type": "markdown",
   "metadata": {
    "hideCode": false,
    "hidePrompt": true,
    "slideshow": {
     "slide_type": "subslide"
    }
   },
   "source": [
    "Das Portal bietet eine JSON-API an, betrachten wir also die Informationen zu diesem Datensatz hierin:\n",
    "\n",
    "<img src=\"./img/Daten_Download_4.png\" width=\"800\" height=\"350\" align=\"left\">"
   ]
  },
  {
   "cell_type": "markdown",
   "metadata": {
    "hideCode": false,
    "hidePrompt": true,
    "slideshow": {
     "slide_type": "subslide"
    }
   },
   "source": [
    "Leider können wir keine Änderungsinformationen ablesen. Vermutlich ändern sich Felder wie `last_modified` lediglich, wenn der Eintrag nicht aber der hinterlegte Datensatz aktualisiert wird."
   ]
  },
  {
   "cell_type": "markdown",
   "metadata": {
    "hideCode": false,
    "hidePrompt": true
   },
   "source": [
    "Schauen wir uns nochmals im Portal um, so finden wir den gewünschten Datensatz in einem anderen Eintrag, nämlich unter [Statistische Kurzinformation zur Bevölkerung 2013 bis 2021](https://open-data.bielefeld.de/dataset/statistische-kurzinformation-zur-bev%C3%B6lkerung-2013-bis-2021)."
   ]
  },
  {
   "cell_type": "code",
   "execution_count": null,
   "metadata": {
    "hideCode": false,
    "hidePrompt": true
   },
   "outputs": [],
   "source": [
    "url_alter = 'https://open-data.bielefeld.de/sites/default/files/altersstruktur_halbjaehrlich2013bisMitte2021.csv'\n",
    "df_alter = pd.read_csv(filepath_or_buffer=url_alter, sep=';', encoding='palmos')\n",
    "df_alter.head()"
   ]
  },
  {
   "cell_type": "markdown",
   "metadata": {
    "hideCode": false,
    "hidePrompt": true,
    "slideshow": {
     "slide_type": "subslide"
    }
   },
   "source": [
    "Da so lange Spaltennamen sehr unhandlich sind, weisen wir den Daten einfach neue zu."
   ]
  },
  {
   "cell_type": "code",
   "execution_count": null,
   "metadata": {
    "hideCode": true,
    "hidePrompt": true
   },
   "outputs": [],
   "source": [
    "list_alter_neueSpaltennamen = ['jahr', 'stichtag', 'gebiet', 'gesamt', '0_1', '1_3', '3_5', '5_6', '6_10', '10_14', '14_15', '15_18', '18_21', '21_25', '25_30', '30_40', '40_45', '45_60', '60_65', '65_70', '70_75', '75_', 'durchschnittsalter']\n",
    "df_alter.columns = list_alter_neueSpaltennamen\n",
    "df_alter.head()"
   ]
  },
  {
   "cell_type": "markdown",
   "metadata": {
    "hideCode": false,
    "hidePrompt": true,
    "slideshow": {
     "slide_type": "skip"
    }
   },
   "source": [
    "Um Daten im Anschluss korrekt anzeigen zu lassen, müssen wir die Datumsangabe von `stichtag` in ein Datenformat übertragen:"
   ]
  },
  {
   "cell_type": "code",
   "execution_count": null,
   "metadata": {
    "hideCode": false,
    "hidePrompt": true,
    "slideshow": {
     "slide_type": "skip"
    }
   },
   "outputs": [],
   "source": [
    "df_alter['stichtag'] = pd.to_datetime(df_alter['stichtag'], format='%Y%m%d')"
   ]
  },
  {
   "cell_type": "markdown",
   "metadata": {
    "hideCode": false,
    "hidePrompt": true,
    "slideshow": {
     "slide_type": "subslide"
    }
   },
   "source": [
    "Nun sind wir in der Position für den Stadtbezirk Mitte die Demographie der letzten Jahre anzuzeigen:"
   ]
  },
  {
   "cell_type": "code",
   "execution_count": null,
   "metadata": {
    "hideCode": true,
    "hidePrompt": true
   },
   "outputs": [],
   "source": [
    "fig__alter_mitte = px.bar(df_alter[df_alter['gebiet']=='Stadtbezirk Mitte'], x='stichtag', y='gesamt')\n",
    "fig__alter_mitte.show()"
   ]
  },
  {
   "cell_type": "markdown",
   "metadata": {
    "hideCode": false,
    "hidePrompt": true,
    "slideshow": {
     "slide_type": "subslide"
    }
   },
   "source": [
    "Interessant ist natürlich auch die Entwicklung in der gesamten Stadt, also binden wir alle Stadtbezirke ein:"
   ]
  },
  {
   "cell_type": "code",
   "execution_count": null,
   "metadata": {
    "hideCode": true,
    "hidePrompt": true
   },
   "outputs": [],
   "source": [
    "fig__alter = px.bar(df_alter, x='stichtag', y='gesamt', color='gebiet')\n",
    "fig__alter.show()"
   ]
  },
  {
   "cell_type": "markdown",
   "metadata": {
    "hideCode": false,
    "hidePrompt": true,
    "slideshow": {
     "slide_type": "subslide"
    }
   },
   "source": [
    "Oh, anscheinend gibt es einen Stadtbezirk, welchen es per Definition gar nicht gibt, nämlich `Bielefeld gesamt`. Das überprüfen wir, indem wir uns alle eindeutigen Werte der Spalte `gebiet` anzeigen lassen:"
   ]
  },
  {
   "cell_type": "code",
   "execution_count": null,
   "metadata": {
    "hideCode": true,
    "hidePrompt": true
   },
   "outputs": [],
   "source": [
    "print(df_alter['gebiet'].unique())"
   ]
  },
  {
   "cell_type": "markdown",
   "metadata": {
    "hideCode": false,
    "hidePrompt": true,
    "slideshow": {
     "slide_type": "subslide"
    }
   },
   "source": [
    "Für eine korrekte Darstellung müssen wir also `Bielefeld gesamt` ausschließen und erhalten:"
   ]
  },
  {
   "cell_type": "code",
   "execution_count": null,
   "metadata": {
    "hideCode": true,
    "hidePrompt": true
   },
   "outputs": [],
   "source": [
    "df_alter = df_alter[df_alter['gebiet']!='Bielefeld insgesamt']\n",
    "fig__alter_2 = px.bar(df_alter, x='stichtag', y='gesamt', color='gebiet')\n",
    "fig__alter_2.show()"
   ]
  },
  {
   "cell_type": "markdown",
   "metadata": {
    "hideCode": false,
    "hidePrompt": true,
    "slideshow": {
     "slide_type": "subslide"
    }
   },
   "source": [
    "Take-away-message:\n",
    "- die URLs von Daten sollten statisch sein\n",
    "- Versionierung von Datensätzen schafft zusätzliche Transparenz\n",
    "- es benötigt Zeit sich in Datenportale einzuarbeiten"
   ]
  },
  {
   "cell_type": "markdown",
   "metadata": {
    "hideCode": false,
    "hidePrompt": true,
    "slideshow": {
     "slide_type": "slide"
    }
   },
   "source": [
    "## Zugriff auf Daten der Feinstaubsensoren in Bielefeld\n",
    "\n",
    "Im Rahmen von [Code for Bielefeld](https://codefor.de/bielefeld) beschäftigen wir uns unter anderem mit der Erhebung und Auswertung von Feinstaubdaten im Stadtgebiet. Wer sich einen Eindruck über die aktuell im Einsatz befindlichen Sensoren machen möchte, der kann diese auf [sensor.community](https://sensor.community/de/) nachschauen.\n",
    "\n",
    "Wer selbst Interesse hat einen Feinstaubsensor in Betrieb zu nehmen, der findet [hier](https://sensor.community/de/sensors/airrohr/) eine Anleitung oder kann sich den [NW-Beitrag](https://www.nw.de/lokal/bielefeld/mitte/22873870_Sich-einfach-mal-selbst-einen-Feinstaubsensor-bauen-und-auch-aufhaengen.html) zu unserem Familienworkshop Anfang Oktober letzten Jahres durchlesen.\n",
    "\n",
    "Die Sensoren übermitteln per WLAN die Messdaten alle 5 Minuten an die Plattform von [sensor.community](https://sensor.community/de/), welche wir im Folgenden nutzen."
   ]
  },
  {
   "cell_type": "markdown",
   "metadata": {
    "hideCode": false,
    "hidePrompt": true,
    "slideshow": {
     "slide_type": "slide"
    }
   },
   "source": [
    "### Datenabfrage für einzelne Sensoren"
   ]
  },
  {
   "cell_type": "markdown",
   "metadata": {
    "hideCode": false,
    "hidePrompt": true
   },
   "source": [
    "Gehen wir also auf [sensor.community](https://sensor.community/de/) und wählen einen beliebigen Sensor aus.\n",
    "\n",
    "<img src=\"./img/Sensor_2.png\" width=\"800\" height=\"600\" align=\"left\">"
   ]
  },
  {
   "cell_type": "markdown",
   "metadata": {
    "hideCode": false,
    "hidePrompt": true,
    "slideshow": {
     "slide_type": "subslide"
    }
   },
   "source": [
    "Klicken wir auf den Sensor drauf, können wir uns die gemessenen Daten der letzten 24 Stunden anzeigen lassen.\n",
    "\n",
    "<img src=\"./img/Sensor_1.png\" width=\"800\" height=\"600\" align=\"left\">"
   ]
  },
  {
   "cell_type": "markdown",
   "metadata": {
    "hideCode": false,
    "hidePrompt": true,
    "slideshow": {
     "slide_type": "subslide"
    }
   },
   "source": [
    "Entsprechend versuchen wir nun diese Daten selbst abzufragen. Zum einen haben wir die Möglichkeit, die Daten der letzten 5 Minuten eines beliebigen Sensors per Rest-API herunterzuladen."
   ]
  },
  {
   "cell_type": "code",
   "execution_count": null,
   "metadata": {
    "hideCode": false,
    "hidePrompt": true
   },
   "outputs": [],
   "source": [
    "url = \"https://data.sensor.community/airrohr/v1/sensor/49366/\"\n",
    "res = requests.get(url)\n",
    "print(res.text)"
   ]
  },
  {
   "cell_type": "markdown",
   "metadata": {
    "hideCode": false,
    "hidePrompt": true,
    "slideshow": {
     "slide_type": "subslide"
    }
   },
   "source": [
    "Doch leider sind 5 Minuten kein allzu langer Zeitraum. Eine zweite Möglichkeit besteht darin, bereits archivierte Daten von dem entsprechenden FTP-Server abzufragen."
   ]
  },
  {
   "cell_type": "code",
   "execution_count": null,
   "metadata": {
    "hideCode": false,
    "hidePrompt": true
   },
   "outputs": [],
   "source": [
    "df_sensor_49366 = pd.read_csv('https://archive.sensor.community/2021-08-27/2021-08-27_sds011_sensor_49366.csv', sep=';')\n",
    "df_sensor_49366.head()"
   ]
  },
  {
   "cell_type": "markdown",
   "metadata": {
    "hideCode": false,
    "hidePrompt": true,
    "slideshow": {
     "slide_type": "skip"
    }
   },
   "source": [
    "Wie zuvor müssen wir für die zukünftige Nutzung den Zeitstempel konvertieren."
   ]
  },
  {
   "cell_type": "code",
   "execution_count": null,
   "metadata": {
    "hideCode": false,
    "hidePrompt": true,
    "slideshow": {
     "slide_type": "skip"
    }
   },
   "outputs": [],
   "source": [
    "df_sensor_49366['timestamp'] = pd.to_datetime(df_sensor_49366['timestamp'], format='%Y-%m-%dT%H:%M:%S')"
   ]
  },
  {
   "cell_type": "markdown",
   "metadata": {
    "hideCode": false,
    "hidePrompt": true,
    "slideshow": {
     "slide_type": "subslide"
    }
   },
   "source": [
    "Als ersten Plot stellen wir die Daten der Spalte `P1` zum Zeitstempel dar:"
   ]
  },
  {
   "cell_type": "code",
   "execution_count": null,
   "metadata": {
    "hideCode": true,
    "hidePrompt": true
   },
   "outputs": [],
   "source": [
    "fig = px.line(df_sensor_49366, x='timestamp', y=\"P1\")\n",
    "fig.show()"
   ]
  },
  {
   "cell_type": "markdown",
   "metadata": {
    "hideCode": false,
    "hidePrompt": true,
    "slideshow": {
     "slide_type": "subslide"
    }
   },
   "source": [
    "An dieser Stelle sei erwähnt, dass die Spalte `P1` für die Feinstaubdaten des Typs `PM10` stehen, und `P2` für die des Typs `PM2.5`. Dementsprechend handelt es sich bei `P2` um die gesundheitlich schädlicheren Daten, da diese Partikel besonders fein sind und in die Lunge eindringen können."
   ]
  },
  {
   "cell_type": "markdown",
   "metadata": {
    "hideCode": false,
    "hidePrompt": true,
    "slideshow": {
     "slide_type": "subslide"
    }
   },
   "source": [
    "Bilden wir also `P1` und `P2` gemeinsam ab:"
   ]
  },
  {
   "cell_type": "code",
   "execution_count": null,
   "metadata": {
    "hideCode": true,
    "hidePrompt": true
   },
   "outputs": [],
   "source": [
    "fig = px.line(\n",
    "    df_sensor_49366[['timestamp','P1','P2']], \n",
    "    x=\"timestamp\",\n",
    "    y=df_sensor_49366[['timestamp','P1','P2']].columns,\n",
    "    title='Feinstaubdaten des Sensors 49366 am 27.08.2021')\n",
    "fig.show()"
   ]
  },
  {
   "cell_type": "markdown",
   "metadata": {
    "hideCode": false,
    "hidePrompt": true,
    "slideshow": {
     "slide_type": "subslide"
    }
   },
   "source": [
    "Was müssen wir tun, um alle Daten der letzten 30 Tage abzurufen? Nun, wir müssen wir jeden Tag die entsprechende URL generieren, die einzelnen Datensätze herunterladen und zuletzt zusammensetzen. Gehen wir es also an.\n",
    "\n",
    "Zunächst generieren wir die Datumsangaben der letzten 30 Tage und formatieren diese entsprechend der Ziel-URL."
   ]
  },
  {
   "cell_type": "code",
   "execution_count": null,
   "metadata": {
    "hideCode": false,
    "hidePrompt": true
   },
   "outputs": [],
   "source": [
    "from datetime import datetime\n",
    "end = datetime.today()\n",
    "start = end - timedelta(days=30)\n",
    "list_dates = pd.date_range(start, end).tolist()\n",
    "list_dates = [x.strftime(\"%Y-%m-%d\") for x in list_dates]\n",
    "print(list_dates[:5])"
   ]
  },
  {
   "cell_type": "markdown",
   "metadata": {
    "hideCode": false,
    "hidePrompt": true,
    "slideshow": {
     "slide_type": "skip"
    }
   },
   "source": [
    "Zusätzlich benötigen wir den Namen des Sensortypens, um die Daten aus dem Archiv laden zu können."
   ]
  },
  {
   "cell_type": "code",
   "execution_count": null,
   "metadata": {
    "hideCode": false,
    "hidePrompt": true,
    "slideshow": {
     "slide_type": "skip"
    }
   },
   "outputs": [],
   "source": [
    "# Sensortyp des Sensors 49366 für Download URL holen\n",
    "df_sensor_type_49366 = df_sensor_49366['sensor_type']\n",
    "sensor_type_49366 = df_sensor_type_49366[0].lower()\n",
    "print(sensor_type_49366)"
   ]
  },
  {
   "cell_type": "markdown",
   "metadata": {
    "hideCode": false,
    "hidePrompt": true,
    "slideshow": {
     "slide_type": "subslide"
    }
   },
   "source": [
    "Dann erzeugen wir eine Liste mit allen URLs unter zu Hilfe nahme der obigen Datumsliste:"
   ]
  },
  {
   "cell_type": "code",
   "execution_count": null,
   "metadata": {
    "hideCode": false,
    "hidePrompt": true
   },
   "outputs": [],
   "source": [
    "url_front = 'https://archive.sensor.community/'\n",
    "url_back = '_sensor_49366.csv'\n",
    "type_sensor = sensor_type_49366\n",
    "list_urls_sensor_49366 = [url_front + x + '/' + x + '_' + type_sensor + url_back for x in list_dates]\n",
    "list_urls_sensor_49366[:5]"
   ]
  },
  {
   "cell_type": "markdown",
   "metadata": {
    "hideCode": false,
    "hidePrompt": true,
    "slideshow": {
     "slide_type": "skip"
    }
   },
   "source": [
    "Da Daten erst mit einem Tag Versatz archiviert werden, müssen wir die letzte URL ausschließen, welche auf den heutigen Tag zugreifen würde:"
   ]
  },
  {
   "cell_type": "code",
   "execution_count": null,
   "metadata": {
    "hideCode": false,
    "hidePrompt": true,
    "slideshow": {
     "slide_type": "skip"
    }
   },
   "outputs": [],
   "source": [
    "list_urls_sensor_49366.pop()"
   ]
  },
  {
   "cell_type": "markdown",
   "metadata": {
    "hideCode": false,
    "hidePrompt": true,
    "slideshow": {
     "slide_type": "subslide"
    }
   },
   "source": [
    "Nun können wir mithilfe einer `for`-Schleife alle Daten herunterladen und in einem Dataframe zusammenfassen.\n",
    "\n",
    "**Achtung**: Dieser Schritt kann einige Zeit in Anspruch nehmen."
   ]
  },
  {
   "cell_type": "code",
   "execution_count": null,
   "metadata": {
    "hideCode": false,
    "hidePrompt": true,
    "slideshow": {
     "slide_type": "skip"
    }
   },
   "outputs": [],
   "source": [
    "list_df_sensor_49366 = list()\n",
    "for url in list_urls_sensor_49366:\n",
    "    try:\n",
    "        list_df_sensor_49366.append(pd.read_csv(url, sep=';'))\n",
    "    except:\n",
    "        print(\"Oops! Bei der URL\", url, \" ist etwas schiefgegangen: \", sys.exc_info()[0])\n",
    "df_sensor_49366 = pd.concat(list_df_sensor_49366)"
   ]
  },
  {
   "cell_type": "code",
   "execution_count": null,
   "metadata": {
    "hideCode": true,
    "hidePrompt": true
   },
   "outputs": [],
   "source": [
    "df_sensor_49366.head()"
   ]
  },
  {
   "cell_type": "code",
   "execution_count": null,
   "metadata": {
    "hideCode": true,
    "hidePrompt": true
   },
   "outputs": [],
   "source": [
    "df_sensor_49366.tail()"
   ]
  },
  {
   "cell_type": "markdown",
   "metadata": {
    "hideCode": false,
    "hidePrompt": true,
    "slideshow": {
     "slide_type": "skip"
    }
   },
   "source": [
    "Wir legen eine Methode an, um anhand der Daten und der Sensor ID zu checken, ob der Sensor 'indoor' ist. Diese Information wird im Positivfall an die Download URL gehängt. "
   ]
  },
  {
   "cell_type": "code",
   "execution_count": null,
   "metadata": {
    "hideCode": false,
    "hidePrompt": true,
    "slideshow": {
     "slide_type": "skip"
    }
   },
   "outputs": [],
   "source": [
    "def is_indoor(id: int, data: pd.DataFrame):\n",
    "    indoor = data[data['sensor.id'] == id]['location.indoor'].unique()[0]\n",
    "    if indoor == 0:\n",
    "        return False\n",
    "    else:\n",
    "        return True"
   ]
  },
  {
   "cell_type": "markdown",
   "metadata": {
    "hideCode": false,
    "hidePrompt": true,
    "slideshow": {
     "slide_type": "skip"
    }
   },
   "source": [
    "Obige Schritte fassen wir in zwei Funktionen zusammen, sodass wir sie einfacher verwenden können."
   ]
  },
  {
   "cell_type": "code",
   "execution_count": null,
   "metadata": {
    "hideCode": false,
    "hidePrompt": true,
    "slideshow": {
     "slide_type": "skip"
    }
   },
   "outputs": [],
   "source": [
    "def get_sensor_data_download_urls(id: int, dates: [str], sensor_type: str, indoor: bool):\n",
    "    url_front = 'https://archive.sensor.community/'\n",
    "    indoor_param = ''\n",
    "    if indoor:\n",
    "        indoor_param = '_indoor'\n",
    "    url_back = '_sensor_' + str(id) + indoor_param + '.csv'\n",
    "    \n",
    "    # URL Beginn für alle Daten generieren (ohne Sensortyp und Sensor ID)\n",
    "    list_url = [url_front + date + '/' + date + '_' + sensor_type + url_back for date in dates]\n",
    "    list_url.pop()\n",
    "    return list_url"
   ]
  },
  {
   "cell_type": "code",
   "execution_count": null,
   "metadata": {
    "hideCode": false,
    "hidePrompt": true,
    "slideshow": {
     "slide_type": "skip"
    }
   },
   "outputs": [],
   "source": [
    "def get_sensor_data_by_url(urls: [str]):\n",
    "    list_df_sensor = list()\n",
    "    for url in urls:\n",
    "        try:\n",
    "            result = pd.read_csv(url, sep=';')\n",
    "            list_df_sensor.append(result)\n",
    "        except:\n",
    "            None\n",
    "    if len(list_df_sensor) == 0:\n",
    "        return None\n",
    "    df = pd.concat(list_df_sensor)\n",
    "    df['timestamp'] = pd.to_datetime(df['timestamp'], format='%Y-%m-%dT%H:%M:%S')\n",
    "    return df"
   ]
  },
  {
   "cell_type": "markdown",
   "metadata": {
    "hideCode": false,
    "hidePrompt": true,
    "slideshow": {
     "slide_type": "slide"
    }
   },
   "source": [
    "### Bielefeld-weite Sensordaten"
   ]
  },
  {
   "cell_type": "markdown",
   "metadata": {
    "hideCode": false,
    "hidePrompt": true
   },
   "source": [
    "Über eine API können alle Sensoren in einem GPS-Quadrat abgefragt werden."
   ]
  },
  {
   "cell_type": "code",
   "execution_count": null,
   "metadata": {
    "hideCode": false,
    "hidePrompt": true
   },
   "outputs": [],
   "source": [
    "url = 'https://data.sensor.community/airrohr/v1/filter/box=51.9,8.3,52.1,8.7'\n",
    "res = requests.get(url)\n",
    "data = json.loads(res.text)\n",
    "df_sensor_bielefeld = pd.json_normalize(data)\n",
    "df_sensor_bielefeld.head(3)"
   ]
  },
  {
   "cell_type": "markdown",
   "metadata": {
    "hideCode": false,
    "hidePrompt": true,
    "slideshow": {
     "slide_type": "subslide"
    }
   },
   "source": [
    "Testen wir, ob der zuvor ausgewählte Sensor auch in den Daten enthalten ist."
   ]
  },
  {
   "cell_type": "code",
   "execution_count": null,
   "metadata": {
    "hideCode": false,
    "hidePrompt": true
   },
   "outputs": [],
   "source": [
    "df_sensor_bielefeld[df_sensor_bielefeld['sensor.id']==49366]"
   ]
  },
  {
   "cell_type": "markdown",
   "metadata": {
    "hideCode": false,
    "hidePrompt": true
   },
   "source": [
    "Wir holen uns alle Sensor IDs für Bielefeld."
   ]
  },
  {
   "cell_type": "code",
   "execution_count": null,
   "metadata": {
    "hideCode": true,
    "hidePrompt": true
   },
   "outputs": [],
   "source": [
    "# Alle Sensor IDs für Bielfeld\n",
    "sensor_ids_bielefeld = df_sensor_bielefeld['sensor.id'].unique()\n",
    "sensor_ids_bielefeld.sort()\n",
    "\n",
    "print(sensor_ids_bielefeld)"
   ]
  },
  {
   "cell_type": "markdown",
   "metadata": {
    "hideCode": false,
    "hidePrompt": true,
    "slideshow": {
     "slide_type": "skip"
    }
   },
   "source": [
    "Da wir nun wissen, wie die Daten aussehen, können wir uns eine Methode schreiben, um den Namen des Sensortypen eines Sensors holen können."
   ]
  },
  {
   "cell_type": "code",
   "execution_count": null,
   "metadata": {
    "hideCode": false,
    "hidePrompt": true,
    "slideshow": {
     "slide_type": "skip"
    }
   },
   "outputs": [],
   "source": [
    "def get_sensor_type_name_by_id(id: int, data: pd.DataFrame):\n",
    "    sensor_type = data[data['sensor.id'] == id]['sensor.sensor_type.name']\n",
    "    sensor_type = sensor_type.iloc[0].lower()\n",
    "    return sensor_type"
   ]
  },
  {
   "cell_type": "markdown",
   "metadata": {
    "hidePrompt": true,
    "slideshow": {
     "slide_type": "subslide"
    }
   },
   "source": [
    "Nun können wir uns also die Daten der entsprechenden Sensoren im Bielefelder Stadtgebiet herunterladen und erhalten:"
   ]
  },
  {
   "cell_type": "code",
   "execution_count": null,
   "metadata": {
    "hideCode": true,
    "hidePrompt": true,
    "slideshow": {
     "slide_type": "-"
    }
   },
   "outputs": [],
   "source": [
    "list_df_sensor_bielefeld = list()\n",
    "for sensor in sensor_ids_bielefeld[:10]:\n",
    "    sensor_type = get_sensor_type_name_by_id(int(sensor), df_sensor_bielefeld)\n",
    "    download_urls = get_sensor_data_download_urls(sensor, list_dates, sensor_type, is_indoor(sensor, df_sensor_bielefeld))\n",
    "    sensor_data = get_sensor_data_by_url(download_urls)\n",
    "    list_df_sensor_bielefeld.append(sensor_data)\n",
    "\n",
    "df_sensor_bielefeld_values = pd.concat(list_df_sensor_bielefeld)\n",
    "print('Wir haben ' + str(df_sensor_bielefeld_values.shape[0]) + ' Zeilen mit folgendem Inhalt heruntergeladen:')"
   ]
  },
  {
   "cell_type": "code",
   "execution_count": null,
   "metadata": {
    "hideCode": true,
    "hidePrompt": true
   },
   "outputs": [],
   "source": [
    "df_sensor_bielefeld_values.head()"
   ]
  },
  {
   "cell_type": "code",
   "execution_count": null,
   "metadata": {
    "hideCode": true,
    "hidePrompt": true
   },
   "outputs": [],
   "source": [
    "df_sensor_bielefeld_values.tail()"
   ]
  },
  {
   "cell_type": "markdown",
   "metadata": {
    "hideCode": false,
    "hidePrompt": true,
    "slideshow": {
     "slide_type": "skip"
    }
   },
   "source": [
    "Entfernen der nicht validen \"nan\" Werte..."
   ]
  },
  {
   "cell_type": "code",
   "execution_count": null,
   "metadata": {
    "hideCode": false,
    "hidePrompt": true,
    "slideshow": {
     "slide_type": "skip"
    }
   },
   "outputs": [],
   "source": [
    "df_sensor_bielefeld_values = df_sensor_bielefeld_values.dropna(subset=['sensor_id', 'timestamp', 'P1', 'P2'])\n",
    "df_sensor_bielefeld_values"
   ]
  },
  {
   "cell_type": "markdown",
   "metadata": {
    "hideCode": false,
    "hidePrompt": true,
    "slideshow": {
     "slide_type": "subslide"
    }
   },
   "source": [
    "Für beide Feinstaubgrößen können wir nun die entsprechenden Zeitreihendiagramme erzeugen:"
   ]
  },
  {
   "cell_type": "code",
   "execution_count": null,
   "metadata": {
    "hideCode": true,
    "hidePrompt": true
   },
   "outputs": [],
   "source": [
    "# Plot mit P1\n",
    "fig = px.line(df_sensor_bielefeld_values, x=\"timestamp\", y=\"P1\", color=\"sensor_id\", line_group=\"sensor_id\", hover_name=\"sensor_id\",\n",
    "        line_shape=\"linear\", render_mode=\"svg\", title='Luftdaten Bielefeld 2021 - PM10')\n",
    "fig.show()"
   ]
  },
  {
   "cell_type": "code",
   "execution_count": null,
   "metadata": {
    "hideCode": true,
    "hidePrompt": true,
    "slideshow": {
     "slide_type": "subslide"
    }
   },
   "outputs": [],
   "source": [
    "# Plot mit P2\n",
    "fig = px.line(df_sensor_bielefeld_values, x=\"timestamp\", y=\"P2\", color=\"sensor_id\", line_group=\"sensor_id\", hover_name=\"sensor_id\",\n",
    "        line_shape=\"linear\", render_mode=\"svg\", title='Luftdaten Bielefeld 2021 - PM2.5')\n",
    "fig.show()"
   ]
  },
  {
   "cell_type": "markdown",
   "metadata": {
    "hideCode": false,
    "hidePrompt": true,
    "slideshow": {
     "slide_type": "slide"
    }
   },
   "source": [
    "## Analyse der Feinstaubveränderungen in Bielefeld zu Silvester 2019 / 2020"
   ]
  },
  {
   "cell_type": "markdown",
   "metadata": {
    "hideCode": false,
    "hidePrompt": true
   },
   "source": [
    "Wir erstellen eine Liste mit den Tagen für Dezember 2019 und Januar 2020."
   ]
  },
  {
   "cell_type": "code",
   "execution_count": null,
   "metadata": {
    "hideCode": false,
    "hidePrompt": true
   },
   "outputs": [],
   "source": [
    "from datetime import datetime\n",
    "start = datetime(2019, 12, 24)\n",
    "end = datetime(2020, 1, 7)\n",
    "list_dates_silvester_19_20 = pd.date_range(start, end).tolist()\n",
    "list_dates_silvester_19_20 = [x.strftime(\"%Y-%m-%d\") for x in list_dates_silvester_19_20]\n",
    "list_dates_silvester_19_20[:5]"
   ]
  },
  {
   "cell_type": "markdown",
   "metadata": {
    "hideCode": false,
    "hidePrompt": true,
    "slideshow": {
     "slide_type": "subslide"
    }
   },
   "source": [
    "Wir holen uns die Daten für Bielefeld mithilfe dieser Datumsliste"
   ]
  },
  {
   "cell_type": "code",
   "execution_count": null,
   "metadata": {
    "hideCode": true,
    "hidePrompt": true
   },
   "outputs": [],
   "source": [
    "list_df_sensor_bielefeld_silvester_19_20 = list()\n",
    "for sensor in sensor_ids_bielefeld[:20]:\n",
    "    try:\n",
    "        sensor_type = get_sensor_type_name_by_id(int(sensor), df_sensor_bielefeld)\n",
    "        download_urls = get_sensor_data_download_urls(sensor, list_dates_silvester_19_20, sensor_type, is_indoor(sensor, df_sensor_bielefeld))\n",
    "        sensor_data = get_sensor_data_by_url(download_urls)\n",
    "        if sensor_data is not None:\n",
    "            list_df_sensor_bielefeld_silvester_19_20.append(sensor_data)\n",
    "    except:\n",
    "        None\n",
    "df_sensor_bielefeld_silvester_19_20 = pd.concat(list_df_sensor_bielefeld_silvester_19_20)\n",
    "df_sensor_bielefeld_silvester_19_20 = df_sensor_bielefeld_silvester_19_20.dropna(subset=['sensor_id', 'timestamp', 'P1', 'P2'])\n",
    "print('Wir haben ' + str(df_sensor_bielefeld_silvester_19_20.shape[0]) + ' Zeilen mit folgendem Inhalt heruntergeladen:')\n"
   ]
  },
  {
   "cell_type": "code",
   "execution_count": null,
   "metadata": {
    "hideCode": true,
    "hidePrompt": true
   },
   "outputs": [],
   "source": [
    "df_sensor_bielefeld_silvester_19_20.head(3)"
   ]
  },
  {
   "cell_type": "code",
   "execution_count": null,
   "metadata": {
    "hideCode": true,
    "hidePrompt": true
   },
   "outputs": [],
   "source": [
    "df_sensor_bielefeld_silvester_19_20.tail(3)"
   ]
  },
  {
   "cell_type": "markdown",
   "metadata": {
    "hidePrompt": true,
    "slideshow": {
     "slide_type": "subslide"
    }
   },
   "source": [
    "Stellen wir also die Feinstaubbelastung im qualitativen Vergleich für Silvester 2019/2020 an:"
   ]
  },
  {
   "cell_type": "code",
   "execution_count": null,
   "metadata": {
    "hideCode": true,
    "hidePrompt": true,
    "slideshow": {
     "slide_type": "-"
    }
   },
   "outputs": [],
   "source": [
    "# Plot mit P1\n",
    "fig = px.line(df_sensor_bielefeld_silvester_19_20, x=\"timestamp\", y=\"P1\", color=\"sensor_id\", line_group=\"sensor_id\", hover_name=\"sensor_id\",\n",
    "        line_shape=\"linear\", render_mode=\"svg\", title='Luftdaten Bielefeld Jahreswechsel 19/20 - PM10')\n",
    "fig.show()"
   ]
  },
  {
   "cell_type": "code",
   "execution_count": null,
   "metadata": {
    "hideCode": true,
    "hidePrompt": true,
    "slideshow": {
     "slide_type": "subslide"
    }
   },
   "outputs": [],
   "source": [
    "# Plot mit P2\n",
    "fig = px.line(df_sensor_bielefeld_silvester_19_20, x=\"timestamp\", y=\"P2\", color=\"sensor_id\", line_group=\"sensor_id\", hover_name=\"sensor_id\",\n",
    "        line_shape=\"linear\", render_mode=\"svg\", title='Luftdaten Bielefeld Jahreswechsel 19/20 - PM2.5')\n",
    "fig.show()"
   ]
  },
  {
   "cell_type": "markdown",
   "metadata": {
    "hideCode": false,
    "hidePrompt": true,
    "slideshow": {
     "slide_type": "slide"
    }
   },
   "source": [
    "## Zeichnen einer interaktiven Karte"
   ]
  },
  {
   "cell_type": "markdown",
   "metadata": {
    "hideCode": false,
    "hidePrompt": true
   },
   "source": [
    "Wir erzeugen zunächst 5-minütliche Durchschnittswerte für alle Sensoren, hier für PM10:"
   ]
  },
  {
   "cell_type": "code",
   "execution_count": null,
   "metadata": {
    "hideCode": true,
    "hidePrompt": true
   },
   "outputs": [],
   "source": [
    "df_values_1920 = df_sensor_bielefeld_silvester_19_20\n",
    "df_values_1920['timestamp'] = df_values_1920['timestamp'].dt.round(\"5min\")\n",
    "df_values_1920_p1 = df_values_1920[['sensor_id', 'P1', 'timestamp']]\n",
    "df_values_1920_p1 = df_values_1920_p1.groupby(['sensor_id', pd.Grouper(key='timestamp', freq='5Min')])['P1'].mean().to_frame()\n",
    "df_values_1920_p1 = df_values_1920_p1.reset_index(level=['sensor_id', 'timestamp'])\n",
    "df_values_1920_p1.head()"
   ]
  },
  {
   "cell_type": "markdown",
   "metadata": {
    "hideCode": false,
    "hidePrompt": true,
    "slideshow": {
     "slide_type": "subslide"
    }
   },
   "source": [
    "Wir fügen nun die GPS-Angaben aus `df_sensor_bielefeld` hinzu:"
   ]
  },
  {
   "cell_type": "code",
   "execution_count": null,
   "metadata": {
    "hideCode": false,
    "hidePrompt": true
   },
   "outputs": [],
   "source": [
    "df_values_1920_p1 = pd.merge(df_sensor_bielefeld_silvester_19_20, df_sensor_bielefeld[['location.latitude', 'location.longitude', 'sensor.id']], left_on='sensor_id', right_on='sensor.id', how='inner')\n",
    "df_values_1920_p1 = df_values_1920_p1.drop_duplicates()"
   ]
  },
  {
   "cell_type": "markdown",
   "metadata": {
    "hideCode": false,
    "hidePrompt": true
   },
   "source": [
    "Wählen wir nun einen Zeitstempel aus, so können wir ihn zum filtern der verfügbaren Werte nutzen."
   ]
  },
  {
   "cell_type": "code",
   "execution_count": null,
   "metadata": {
    "hideCode": false,
    "hidePrompt": true
   },
   "outputs": [],
   "source": [
    "df_values_1920_p1[df_values_1920_p1.timestamp == datetime(2020,1,1,2)]"
   ]
  },
  {
   "cell_type": "markdown",
   "metadata": {
    "hideCode": false,
    "hidePrompt": true,
    "slideshow": {
     "slide_type": "subslide"
    }
   },
   "source": [
    "Noch schnell die hinterlegten GPS-Koordinaten in echte Zahlen konvertiert:"
   ]
  },
  {
   "cell_type": "code",
   "execution_count": null,
   "metadata": {
    "hideCode": false,
    "hidePrompt": true
   },
   "outputs": [],
   "source": [
    "df_values_1920_p1['location.latitude'] = df_values_1920_p1['location.latitude'].astype(float)\n",
    "df_values_1920_p1['location.longitude'] = df_values_1920_p1['location.longitude'].astype(float)"
   ]
  },
  {
   "cell_type": "markdown",
   "metadata": {
    "hideCode": false,
    "hidePrompt": true,
    "slideshow": {
     "slide_type": "subslide"
    }
   },
   "source": [
    "Und wir können mit wenig Aufwand eine Karte mit den Standorten der Sensoren erzeugen, inklusive Angabe von PM10-Feinstaub am 1.1.2020 um 2 Uhr:"
   ]
  },
  {
   "cell_type": "code",
   "execution_count": null,
   "metadata": {
    "hideCode": true,
    "hidePrompt": true
   },
   "outputs": [],
   "source": [
    "fig = px.scatter_mapbox(\n",
    "    df_values_1920_p1[df_values_1920_p1.timestamp == datetime(2020,1,1,2)], \n",
    "    lat=\"location.latitude\", \n",
    "    lon=\"location.longitude\", \n",
    "    color=\"P1\", \n",
    "    size=\"P1\",\n",
    "    color_continuous_scale=px.colors.cyclical.IceFire, \n",
    "    size_max=15, \n",
    "    zoom=10,\n",
    "    mapbox_style=\"carto-positron\"\n",
    "    )\n",
    "fig.show()"
   ]
  },
  {
   "cell_type": "markdown",
   "metadata": {
    "hidePrompt": true,
    "slideshow": {
     "slide_type": "subslide"
    }
   },
   "source": [
    "Mögliche Fortsetzungen gibt es viele: aus einzelnen Bildern ein Video erstellen, analysieren ob/wie die Feinstaubkonzentration am OWD mit Güterzügen oder Berufsverkehr korreliert, ..."
   ]
  },
  {
   "cell_type": "markdown",
   "metadata": {
    "hidePrompt": true,
    "slideshow": {
     "slide_type": "fragment"
    }
   },
   "source": [
    "Take-away-message:\n",
    "- Daten müssen teils aufwändig prozessiert und interpretiert werden\n",
    "- das Potential der Daten liegt beim User\n"
   ]
  },
  {
   "cell_type": "markdown",
   "metadata": {
    "hideCode": false,
    "hidePrompt": true,
    "slideshow": {
     "slide_type": "slide"
    }
   },
   "source": [
    "## Linked Data"
   ]
  },
  {
   "cell_type": "markdown",
   "metadata": {
    "hideCode": false,
    "hidePrompt": true
   },
   "source": [
    "Bislang haben wir Datenquellen kennen gelernt, welche festgelegte Daten per API oder Download zur Verfügung stellen. Betrachten wir nun *Linked Data*, so erhalten wir ein Vielfaches mehr Möglichkeiten Daten für unseren spezifischen Nutzen zu erhalten - allerdings unter der Voraussetzung, dass wir die jeweilige Quelle und ihre Syntax gut verstehen.\n",
    "\n",
    "Dies veranschaulichen wir uns am Beispiel von Wikidata."
   ]
  },
  {
   "cell_type": "markdown",
   "metadata": {
    "hideCode": false,
    "hidePrompt": true,
    "slideshow": {
     "slide_type": "subslide"
    }
   },
   "source": [
    "### Wikidata\n",
    "\n",
    "Zunächst betrachten wir eines der Beispiele der Wikidata-Seite, nämlich die Entwicklung der Bevölkerungszahlen aller Länder:"
   ]
  },
  {
   "cell_type": "code",
   "execution_count": null,
   "metadata": {
    "hideCode": false,
    "hidePrompt": true
   },
   "outputs": [],
   "source": [
    "url = 'https://query.wikidata.org/sparql'\n",
    "query = \"\"\"\n",
    "SELECT ?year (AVG(?pop) AS ?population) ?countryLabel\n",
    "WHERE\n",
    "{\n",
    "  ?country wdt:P31 wd:Q6256;\n",
    "           p:P1082 ?popStatement .\n",
    "  ?popStatement ps:P1082 ?pop;\n",
    "                pq:P585 ?date .\n",
    "  BIND(STR(YEAR(?date)) AS ?year)\n",
    "  OPTIONAL { ?popStatement pq:P459 ?method. }\n",
    "  OPTIONAL { ?country p:P1082 [ pq:P585 ?d; pq:P459 ?estimate ].\n",
    "             FILTER(STR(YEAR(?d)) = ?year). FILTER(?estimate = wd:Q791801). }\n",
    "  OPTIONAL { ?country p:P1082 [ pq:P585 ?e; pq:P459 ?census ].\n",
    "             FILTER(STR(YEAR(?e)) = ?year). FILTER(?census = wd:Q39825). }\n",
    "  OPTIONAL { ?country p:P1082 [ pq:P585 ?f; pq:P459 ?other ].\n",
    "             FILTER(STR(YEAR(?f)) = ?year). FILTER(?other != wd:Q39825 && ?other != wd:Q791801). }\n",
    "  BIND(COALESCE( \n",
    "    IF(BOUND(?census), ?census, 1/0),\n",
    "    IF(BOUND(?other), ?other, 1/0),\n",
    "    IF(BOUND(?estimate), ?estimate, 1/0) ) AS ?pref_method).\n",
    "  FILTER(IF(BOUND(?pref_method),?method = ?pref_method,true))\n",
    "  SERVICE wikibase:label { bd:serviceParam wikibase:language \"[AUTO_LANGUAGE],de\" }       \n",
    "  FILTER(?year >= \"2005\")\n",
    "}\n",
    "GROUP BY ?year ?countryLabel\n",
    "ORDER BY ?year ?countryLabel\n",
    "\"\"\"\n",
    "r = requests.get(url, params = {'format': 'json', 'query': query})\n",
    "data = r.json()"
   ]
  },
  {
   "cell_type": "markdown",
   "metadata": {
    "hidePrompt": true,
    "slideshow": {
     "slide_type": "subslide"
    }
   },
   "source": [
    "Als Ergebnis erhalten wir JSON-Schnippsel wie den folgenden:"
   ]
  },
  {
   "cell_type": "code",
   "execution_count": null,
   "metadata": {
    "hideCode": true,
    "hidePrompt": true,
    "scrolled": true
   },
   "outputs": [],
   "source": [
    "data['results']['bindings'][0]"
   ]
  },
  {
   "cell_type": "markdown",
   "metadata": {
    "hidePrompt": true,
    "slideshow": {
     "slide_type": "subslide"
    }
   },
   "source": [
    "Mit ein paar Code-Zeilen wandeln wir die Daten wiederum in etwas besser Lesbares um:"
   ]
  },
  {
   "cell_type": "code",
   "execution_count": null,
   "metadata": {
    "hideCode": false,
    "hidePrompt": true
   },
   "outputs": [],
   "source": [
    "from collections import OrderedDict\n",
    "\n",
    "countries = []\n",
    "for item in data['results']['bindings']:\n",
    "    countries.append(OrderedDict({\n",
    "        'year': item['year']['value'],\n",
    "        'country': item['countryLabel']['value'],\n",
    "        'population': item['population']['value']\n",
    "    }))\n",
    "\n",
    "df = pd.DataFrame(countries)\n",
    "df = df.astype({'year': int, 'country': str, 'population': float})\n",
    "df.head()"
   ]
  },
  {
   "cell_type": "markdown",
   "metadata": {
    "hideCode": false,
    "hidePrompt": true,
    "slideshow": {
     "slide_type": "subslide"
    }
   },
   "source": [
    "Schließlich können wir die Bevölkerungsentwicklung in Deutschland zur Anzeige bringen:"
   ]
  },
  {
   "cell_type": "code",
   "execution_count": null,
   "metadata": {
    "hideCode": true,
    "hidePrompt": true
   },
   "outputs": [],
   "source": [
    "fig__ger = px.bar(df[df['country'] == 'Deutschland'], x='year', y='population')\n",
    "fig__ger.show()"
   ]
  },
  {
   "cell_type": "markdown",
   "metadata": {
    "hidePrompt": true,
    "slideshow": {
     "slide_type": "subslide"
    }
   },
   "source": [
    "Wenn wir uns für lokale Daten interessieren, ist auch dies umstandslos möglich. Über die Suchmaske der Wikidata-Seite können wir das Objekt `Bielefeld` suchen und erhalten die Objekt-ID `Q2112`. Hiermit können wir zum Beispiel alle in Bielefeld geborenen Politiker abrufen:"
   ]
  },
  {
   "cell_type": "code",
   "execution_count": null,
   "metadata": {
    "hideCode": true,
    "hidePrompt": true
   },
   "outputs": [],
   "source": [
    "query = \"\"\"\n",
    "#title: Politicians born in Bielefeld\n",
    "select distinct ?item ?itemLabel ?itemDescription where {\n",
    "    ?item wdt:P31 wd:Q5;  # Any instance of a human.\n",
    "          wdt:P106 wd:Q82955; # Works as politician\n",
    "          wdt:P19/wdt:P131* wd:Q2112;  #  Who was born in any value (eg. a hospital)\n",
    "# that has the property of 'administrative area of' Bielefeld or Bielefeld City itself.\n",
    "    SERVICE wikibase:label { bd:serviceParam wikibase:language \"de\" }\n",
    "}\n",
    "\"\"\"\n",
    "r = requests.get(url, params = {'format': 'json', 'query': query})\n",
    "data = r.json()\n",
    "politicians = []\n",
    "for item in data['results']['bindings']:\n",
    "    politicians.append(OrderedDict({\n",
    "        'Name': item['itemLabel']['value'],\n",
    "        'Description': item['itemDescription']['value']\n",
    "    }))\n",
    "df = pd.DataFrame(politicians)\n",
    "print('Wir haben ' + str(df.shape[0]) + ' Zeilen mit folgendem Inhalt heruntergeladen:')\n",
    "df.head()"
   ]
  },
  {
   "cell_type": "markdown",
   "metadata": {
    "hideCode": false,
    "hidePrompt": true,
    "slideshow": {
     "slide_type": "subslide"
    }
   },
   "source": [
    "Aber `SparQL`-Abfragen sind nicht die einzige Möglichkeit an solche Daten zu gelangen. Die Community rundum Wikipedia und Wikidata ist groß, sodass für viele Programmiersprachen Funktionen und Bibliotheken zur Verfügung stehen, welche genutzt werden können. Für Python ist dies zum Beispiel `pywikibot`:"
   ]
  },
  {
   "cell_type": "code",
   "execution_count": null,
   "metadata": {
    "hideCode": false,
    "hidePrompt": true
   },
   "outputs": [],
   "source": [
    "site = pywikibot.Site(\"de\", \"wikipedia\")\n",
    "page = pywikibot.Page(site, \"Bielefeld\")\n",
    "item = pywikibot.ItemPage.fromPage(page)\n",
    "\n",
    "print(item)"
   ]
  },
  {
   "cell_type": "markdown",
   "metadata": {
    "hidePrompt": true,
    "slideshow": {
     "slide_type": "subslide"
    }
   },
   "source": [
    "Objekte von Wikidata sind wie folgt aufgebaut:"
   ]
  },
  {
   "cell_type": "markdown",
   "metadata": {
    "hidePrompt": true
   },
   "source": [
    "<a href=\"https://commons.wikimedia.org/wiki/File:Datamodel_in_Wikidata_de.svg#/media/File:Datamodel_in_Wikidata_de.svg\"><img src=\"https://upload.wikimedia.org/wikipedia/commons/1/10/Datamodel_in_Wikidata_de.svg\" alt=\"Datamodel in Wikidata de.svg\" width=\"835\" height=\"600\"></a>"
   ]
  },
  {
   "cell_type": "markdown",
   "metadata": {
    "hidePrompt": true,
    "slideshow": {
     "slide_type": "subslide"
    }
   },
   "source": [
    "Und dieselben Inhalte sind auch an unserem `Bielefeld`-Objekt enthalten:"
   ]
  },
  {
   "cell_type": "code",
   "execution_count": null,
   "metadata": {
    "hidePrompt": true,
    "slideshow": {
     "slide_type": "-"
    }
   },
   "outputs": [],
   "source": [
    "item_dict = item.get()\n",
    "print(item_dict.keys())"
   ]
  },
  {
   "cell_type": "markdown",
   "metadata": {
    "hidePrompt": true,
    "slideshow": {
     "slide_type": "subslide"
    }
   },
   "source": [
    "Die Aussagen über Bielefeld sind entsprechend in `claims` zu finden:"
   ]
  },
  {
   "cell_type": "code",
   "execution_count": null,
   "metadata": {
    "hideCode": true,
    "hidePrompt": true
   },
   "outputs": [],
   "source": [
    "clm_dict = item_dict[\"claims\"] # Get the claim dictionary\n",
    "print(clm_dict)"
   ]
  },
  {
   "cell_type": "markdown",
   "metadata": {
    "hidePrompt": true,
    "slideshow": {
     "slide_type": "subslide"
    }
   },
   "source": [
    "Und der Inhalt der Aussage für `P190`, welche für Partnerstädte steht, enthält als zweiten Eintrag die folgenden Werte:"
   ]
  },
  {
   "cell_type": "code",
   "execution_count": null,
   "metadata": {
    "hideCode": true,
    "hidePrompt": true,
    "scrolled": true
   },
   "outputs": [],
   "source": [
    "item_dict[\"claims\"][\"P190\"][1]"
   ]
  },
  {
   "cell_type": "markdown",
   "metadata": {
    "hidePrompt": true,
    "slideshow": {
     "slide_type": "subslide"
    }
   },
   "source": [
    "Und dies ist die Essenz von *Linked Data*: Objekte sind über Eigenschaften und Relationen miteinander verknüpft. Steigt man über ein Objekt in den Wissensgraphen ein - in unserem Fall war dies *Bielefeld* - so können wir beinahe beliebig tief und verzweigt den Referenzen nachgehen."
   ]
  },
  {
   "cell_type": "markdown",
   "metadata": {
    "hidePrompt": true,
    "slideshow": {
     "slide_type": "fragment"
    }
   },
   "source": [
    "Take-away-message:\n",
    "- das Potenzial von Daten(-quellen) und die Komplexität der Verarbeitung gehen Hand in Hand\n",
    "- *Linked Data* ist nur so gut wie die Community, welche Daten und Verknüpfungen pflegt\n",
    "- Communities helfen den Wert der Daten zu erschließen und in die Breite zu tragen"
   ]
  },
  {
   "cell_type": "markdown",
   "metadata": {
    "hidePrompt": true,
    "slideshow": {
     "slide_type": "slide"
    }
   },
   "source": [
    "## Ein Nicht-Beispiel\n",
    "\n",
    "Möchten wir als mündige Bürger und eifrige Online-ShopperInnen die Angaben in dem Impressum einer Webseite überprüfen - wie können wir dies tun? Die Handelsregister führen diese Informationen, aber wie transparent sind die Daten verfügbar?\n",
    "\n",
    "<a href=\"https://foundersfoundation.de/impressum/\"><img src=\"img/Impressum_FF.png\" alt=\"Impressum der Founders Foundation\" width=\"835\" height=\"600\"></a>"
   ]
  },
  {
   "cell_type": "markdown",
   "metadata": {
    "hidePrompt": true,
    "slideshow": {
     "slide_type": "subslide"
    }
   },
   "source": [
    "*Hinweis*: Nutze die beiden Seiten Handelsregister und Handelsregisterbekanntmachungen und beachte alle Veröffentlichungen seit Unternehmensgründung.\n",
    "\n",
    "*Achtung*: Die Informationen liegen in digitaler Form lediglich seit 2006 vor - alle weiter zurückliegenden Daten müssen schriftlich und gegen Gebühr von den Amtsgerichten gekauft werden."
   ]
  },
  {
   "cell_type": "markdown",
   "metadata": {
    "slideshow": {
     "slide_type": "slide"
    }
   },
   "source": [
    "# Danke für eure Aufmerksamkeit!\n",
    "\n",
    "<a href=\"https://codefor.de/bielefeld/\"><img src=\"img/CfB_2.png\" alt=\"Code for Bielefeld Promo 2\" width=\"700\" align=\"left\"></a>\n",
    "<a href=\"https://codefor.de/bielefeld/\"><img src=\"img/CfB_1.png\" alt=\"Code for Bielefeld Promo 1\" width=\"700\" align=\"right\"></a>"
   ]
  }
 ],
 "metadata": {
  "celltoolbar": "Hide code",
  "hide_code_all_hidden": false,
  "kernelspec": {
   "display_name": "Python 3 (ipykernel)",
   "language": "python",
   "name": "python3"
  },
  "language_info": {
   "codemirror_mode": {
    "name": "ipython",
    "version": 3
   },
   "file_extension": ".py",
   "mimetype": "text/x-python",
   "name": "python",
   "nbconvert_exporter": "python",
   "pygments_lexer": "ipython3",
   "version": "3.9.6"
  },
  "metadata": {
   "interpreter": {
    "hash": "aee8b7b246df8f9039afb4144a1f6fd8d2ca17a180786b69acc140d282b71a49"
   }
  }
 },
 "nbformat": 4,
 "nbformat_minor": 2
}
